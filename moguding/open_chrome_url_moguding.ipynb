{
 "cells": [
  {
   "cell_type": "code",
   "execution_count": 35,
   "metadata": {},
   "outputs": [],
   "source": [
    "from selenium import webdriver\n",
    "driver=webdriver.Chrome()\n",
    "driver.get(\"http://www.moguding.net\")"
   ]
  },
  {
   "cell_type": "markdown",
   "metadata": {},
   "source": [
    "# 模拟点击下拉菜单（李文来完善）"
   ]
  },
  {
   "cell_type": "code",
   "execution_count": null,
   "metadata": {},
   "outputs": [],
   "source": []
  },
  {
   "cell_type": "markdown",
   "metadata": {},
   "source": [
    "# 第一种操作下拉菜单点击相应项的方式，使用绝对的xpath,使用chrome开发者工具copy full xpath"
   ]
  },
  {
   "cell_type": "code",
   "execution_count": 10,
   "metadata": {},
   "outputs": [],
   "source": [
    "driver.find_element_by_xpath(\"/html/body/div[2]/div[1]/div[1]/ul/li[3]\").click()"
   ]
  },
  {
   "cell_type": "markdown",
   "metadata": {},
   "source": [
    "# 第二种操作下拉菜单点击相应项的方式 ，在网页中查找特定的文本进行定位，使用的xpath的语法，此种方法更有通用性，建议使用第二种方法"
   ]
  },
  {
   "cell_type": "code",
   "execution_count": 9,
   "metadata": {},
   "outputs": [],
   "source": [
    "driver.find_element_by_xpath('//*[contains(text(), \"2019-2020\")]').click()"
   ]
  },
  {
   "cell_type": "markdown",
   "metadata": {},
   "source": [
    "# 模拟鼠标滚轮 建议使用第二种方法"
   ]
  },
  {
   "cell_type": "markdown",
   "metadata": {},
   "source": [
    "# 第一种方法：进行模拟滚轮滚动"
   ]
  },
  {
   "cell_type": "code",
   "execution_count": 4,
   "metadata": {},
   "outputs": [],
   "source": [
    "import pyautogui as auto\n",
    "import time\n",
    "time.sleep(10)\n",
    "auto.scroll(-30)"
   ]
  },
  {
   "cell_type": "markdown",
   "metadata": {},
   "source": [
    "# 第二种方法：通过在F12开发者工具的element面板中，使用ctrl+F弹出的栏中进行xpath测试"
   ]
  },
  {
   "cell_type": "code",
   "execution_count": 37,
   "metadata": {},
   "outputs": [],
   "source": [
    "from selenium.webdriver.common.keys import Keys\n",
    "driver.find_element_by_xpath(\"//table[@class='el-table__body']//div[@class='cell']\").click()"
   ]
  },
  {
   "cell_type": "code",
   "execution_count": 40,
   "metadata": {},
   "outputs": [],
   "source": [
    "driver.switch_to.active_element.send_keys(Keys.PAGE_DOWN)#需要多次调用"
   ]
  },
  {
   "cell_type": "markdown",
   "metadata": {},
   "source": [
    "# 第三种方法"
   ]
  },
  {
   "cell_type": "code",
   "execution_count": null,
   "metadata": {},
   "outputs": [
    {
     "name": "stdout",
     "output_type": "stream",
     "text": [
      "//span[text()=\"批阅\" or text()=\"详情\"]\n",
      "[<selenium.webdriver.remote.webelement.WebElement (session=\"bf9cfe4361857530ed159b17be22a659\", element=\"0.34558890154169286-5\")>, <selenium.webdriver.remote.webelement.WebElement (session=\"bf9cfe4361857530ed159b17be22a659\", element=\"0.34558890154169286-6\")>, <selenium.webdriver.remote.webelement.WebElement (session=\"bf9cfe4361857530ed159b17be22a659\", element=\"0.34558890154169286-7\")>, <selenium.webdriver.remote.webelement.WebElement (session=\"bf9cfe4361857530ed159b17be22a659\", element=\"0.34558890154169286-8\")>, <selenium.webdriver.remote.webelement.WebElement (session=\"bf9cfe4361857530ed159b17be22a659\", element=\"0.34558890154169286-9\")>, <selenium.webdriver.remote.webelement.WebElement (session=\"bf9cfe4361857530ed159b17be22a659\", element=\"0.34558890154169286-10\")>, <selenium.webdriver.remote.webelement.WebElement (session=\"bf9cfe4361857530ed159b17be22a659\", element=\"0.34558890154169286-11\")>, <selenium.webdriver.remote.webelement.WebElement (session=\"bf9cfe4361857530ed159b17be22a659\", element=\"0.34558890154169286-12\")>, <selenium.webdriver.remote.webelement.WebElement (session=\"bf9cfe4361857530ed159b17be22a659\", element=\"0.34558890154169286-13\")>, <selenium.webdriver.remote.webelement.WebElement (session=\"bf9cfe4361857530ed159b17be22a659\", element=\"0.34558890154169286-14\")>, <selenium.webdriver.remote.webelement.WebElement (session=\"bf9cfe4361857530ed159b17be22a659\", element=\"0.34558890154169286-15\")>, <selenium.webdriver.remote.webelement.WebElement (session=\"bf9cfe4361857530ed159b17be22a659\", element=\"0.34558890154169286-16\")>, <selenium.webdriver.remote.webelement.WebElement (session=\"bf9cfe4361857530ed159b17be22a659\", element=\"0.34558890154169286-17\")>, <selenium.webdriver.remote.webelement.WebElement (session=\"bf9cfe4361857530ed159b17be22a659\", element=\"0.34558890154169286-18\")>, <selenium.webdriver.remote.webelement.WebElement (session=\"bf9cfe4361857530ed159b17be22a659\", element=\"0.34558890154169286-19\")>, <selenium.webdriver.remote.webelement.WebElement (session=\"bf9cfe4361857530ed159b17be22a659\", element=\"0.34558890154169286-20\")>, <selenium.webdriver.remote.webelement.WebElement (session=\"bf9cfe4361857530ed159b17be22a659\", element=\"0.34558890154169286-21\")>, <selenium.webdriver.remote.webelement.WebElement (session=\"bf9cfe4361857530ed159b17be22a659\", element=\"0.34558890154169286-22\")>, <selenium.webdriver.remote.webelement.WebElement (session=\"bf9cfe4361857530ed159b17be22a659\", element=\"0.34558890154169286-23\")>, <selenium.webdriver.remote.webelement.WebElement (session=\"bf9cfe4361857530ed159b17be22a659\", element=\"0.34558890154169286-24\")>, <selenium.webdriver.remote.webelement.WebElement (session=\"bf9cfe4361857530ed159b17be22a659\", element=\"0.34558890154169286-25\")>, <selenium.webdriver.remote.webelement.WebElement (session=\"bf9cfe4361857530ed159b17be22a659\", element=\"0.34558890154169286-26\")>]\n",
      "22\n",
      "//span[text()=\"批阅\" or text()=\"详情\"]\n",
      "//span[text()=\"批阅\" or text()=\"详情\"]\n",
      "//span[text()=\"批阅\" or text()=\"详情\"]\n",
      "//span[text()=\"批阅\" or text()=\"详情\"]\n",
      "//span[text()=\"批阅\" or text()=\"详情\"]\n",
      "//span[text()=\"批阅\" or text()=\"详情\"]\n",
      "//span[text()=\"批阅\" or text()=\"详情\"]\n",
      "//span[text()=\"批阅\" or text()=\"详情\"]\n",
      "//span[text()=\"批阅\" or text()=\"详情\"]\n",
      "//span[text()=\"批阅\" or text()=\"详情\"]\n",
      "//span[text()=\"批阅\" or text()=\"详情\"]\n"
     ]
    }
   ],
   "source": [
    "from selenium.webdriver.common.keys import Keys\n",
    "import time\n",
    "s = '//span[text()=\"批阅\" or text()=\"详情\"]'\n",
    "print(s)\n",
    "piyues = driver.find_elements_by_xpath(s)\n",
    "print(piyues)\n",
    "length = len(piyues)\n",
    "print(length)\n",
    "for i in range(1,length+1):\n",
    "    ss = '(//span[text()=\"批阅\" or text()=\"详情\"])['+str(i)+']'\n",
    "    print(s)\n",
    "    a = driver.find_element_by_xpath(ss)\n",
    "    driver.execute_script(\"arguments[0].click();\", a)\n",
    "    time.sleep(3)\n",
    "    driver.back()\n",
    "    time.sleep(3)"
   ]
  },
  {
   "cell_type": "code",
   "execution_count": 53,
   "metadata": {},
   "outputs": [],
   "source": [
    "driver.back()"
   ]
  },
  {
   "cell_type": "code",
   "execution_count": 60,
   "metadata": {},
   "outputs": [
    {
     "name": "stdout",
     "output_type": "stream",
     "text": [
      "//span[text()=\"批阅\" or text()=\"详情\"]\n",
      "[<selenium.webdriver.remote.webelement.WebElement (session=\"bf9cfe4361857530ed159b17be22a659\", element=\"0.34558890154169286-5\")>, <selenium.webdriver.remote.webelement.WebElement (session=\"bf9cfe4361857530ed159b17be22a659\", element=\"0.34558890154169286-6\")>, <selenium.webdriver.remote.webelement.WebElement (session=\"bf9cfe4361857530ed159b17be22a659\", element=\"0.34558890154169286-7\")>, <selenium.webdriver.remote.webelement.WebElement (session=\"bf9cfe4361857530ed159b17be22a659\", element=\"0.34558890154169286-8\")>, <selenium.webdriver.remote.webelement.WebElement (session=\"bf9cfe4361857530ed159b17be22a659\", element=\"0.34558890154169286-9\")>, <selenium.webdriver.remote.webelement.WebElement (session=\"bf9cfe4361857530ed159b17be22a659\", element=\"0.34558890154169286-10\")>, <selenium.webdriver.remote.webelement.WebElement (session=\"bf9cfe4361857530ed159b17be22a659\", element=\"0.34558890154169286-11\")>, <selenium.webdriver.remote.webelement.WebElement (session=\"bf9cfe4361857530ed159b17be22a659\", element=\"0.34558890154169286-12\")>, <selenium.webdriver.remote.webelement.WebElement (session=\"bf9cfe4361857530ed159b17be22a659\", element=\"0.34558890154169286-13\")>, <selenium.webdriver.remote.webelement.WebElement (session=\"bf9cfe4361857530ed159b17be22a659\", element=\"0.34558890154169286-14\")>, <selenium.webdriver.remote.webelement.WebElement (session=\"bf9cfe4361857530ed159b17be22a659\", element=\"0.34558890154169286-15\")>, <selenium.webdriver.remote.webelement.WebElement (session=\"bf9cfe4361857530ed159b17be22a659\", element=\"0.34558890154169286-16\")>, <selenium.webdriver.remote.webelement.WebElement (session=\"bf9cfe4361857530ed159b17be22a659\", element=\"0.34558890154169286-17\")>, <selenium.webdriver.remote.webelement.WebElement (session=\"bf9cfe4361857530ed159b17be22a659\", element=\"0.34558890154169286-18\")>, <selenium.webdriver.remote.webelement.WebElement (session=\"bf9cfe4361857530ed159b17be22a659\", element=\"0.34558890154169286-19\")>, <selenium.webdriver.remote.webelement.WebElement (session=\"bf9cfe4361857530ed159b17be22a659\", element=\"0.34558890154169286-20\")>, <selenium.webdriver.remote.webelement.WebElement (session=\"bf9cfe4361857530ed159b17be22a659\", element=\"0.34558890154169286-21\")>, <selenium.webdriver.remote.webelement.WebElement (session=\"bf9cfe4361857530ed159b17be22a659\", element=\"0.34558890154169286-22\")>, <selenium.webdriver.remote.webelement.WebElement (session=\"bf9cfe4361857530ed159b17be22a659\", element=\"0.34558890154169286-23\")>, <selenium.webdriver.remote.webelement.WebElement (session=\"bf9cfe4361857530ed159b17be22a659\", element=\"0.34558890154169286-24\")>, <selenium.webdriver.remote.webelement.WebElement (session=\"bf9cfe4361857530ed159b17be22a659\", element=\"0.34558890154169286-25\")>, <selenium.webdriver.remote.webelement.WebElement (session=\"bf9cfe4361857530ed159b17be22a659\", element=\"0.34558890154169286-26\")>]\n",
      "22\n"
     ]
    }
   ],
   "source": [
    "s = '//span[text()=\"批阅\" or text()=\"详情\"]'\n",
    "print(s)\n",
    "piyues = driver.find_elements_by_xpath(s)\n",
    "print(piyues)\n",
    "length = len(piyues)\n",
    "print(length)"
   ]
  },
  {
   "cell_type": "code",
   "execution_count": null,
   "metadata": {},
   "outputs": [],
   "source": []
  }
 ],
 "metadata": {
  "kernelspec": {
   "display_name": "Python 3",
   "language": "python",
   "name": "python3"
  },
  "language_info": {
   "codemirror_mode": {
    "name": "ipython",
    "version": 3
   },
   "file_extension": ".py",
   "mimetype": "text/x-python",
   "name": "python",
   "nbconvert_exporter": "python",
   "pygments_lexer": "ipython3",
   "version": "3.7.6"
  }
 },
 "nbformat": 4,
 "nbformat_minor": 4
}
